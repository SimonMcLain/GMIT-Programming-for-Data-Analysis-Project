{
 "cells": [
  {
   "cell_type": "markdown",
   "metadata": {},
   "source": [
    "https://data.gov.ie/dataset/hourly-data-for-buoy-m5"
   ]
  },
  {
   "cell_type": "code",
   "execution_count": 1,
   "metadata": {},
   "outputs": [],
   "source": [
    "# Pandas for dataframes.\n",
    "\n",
    "import pandas as pd\n",
    "import numpy as np\n",
    "%matplotlib inline\n",
    "\n",
    "import matplotlib.pyplot as plt\n",
    "import seaborn as sns\n",
    "import scipy as sp"
   ]
  },
  {
   "cell_type": "markdown",
   "metadata": {},
   "source": [
    "Decided to change topic to lifestyle risk indicators\n",
    "https://ephtracking.cdc.gov/showLifestyleRiskFactorsMain"
   ]
  },
  {
   "cell_type": "code",
   "execution_count": 2,
   "metadata": {},
   "outputs": [],
   "source": [
    "#df = np.loadtxt('LLCP2017.ASC', delimiter=';', skiprows=6)"
   ]
  },
  {
   "cell_type": "markdown",
   "metadata": {},
   "source": [
    "Life style risk indicators:\n",
    "1. Exercise (Weekly Hours) https://health.gov.ie/wp-content/uploads/2016/10/Healthy-Ireland-Survey-2016-Summary-Findings.pdf\n",
    "2. Alcohol Consumption (Units)http://alcoholireland.ie/facts/how-much-do-we-drink/ \n",
    "3. BMI Normal 18.5 to 24.9 Overweight Obese 30+ Extreme Obesity 40+ http://www.irishhealth.com/calc/bmi01.html\n",
    "4. Smoker or non-smoker https://www.hse.ie/eng/about/who/tobaccocontrol/research/\n",
    "\n",
    "Age/ Gender"
   ]
  },
  {
   "cell_type": "markdown",
   "metadata": {},
   "source": [
    "Write a script to randomly generate 100 ages in the range 18 - 65? based on age distribution in Ireland - put in index column\n",
    "Write a for loop to randomly generate gender, according to age distribution in ireland\n",
    "Write a script to randomly generate weekly minutes of exercise by age and gender based on health.gov statistics\n",
    "Write a script to randomly generate BMI based on age and gender\n",
    "Write a script to randomly assign as smoker or non-smoker according to irish statistics\n",
    "\n",
    "Classify life style risk as low, moderate or high"
   ]
  },
  {
   "cell_type": "code",
   "execution_count": 19,
   "metadata": {},
   "outputs": [],
   "source": [
    "\"\"\"male_age_distributions = ['15-24', '25-29', '30-34', '35-39', '40-44', '45-49', '50-54', '55-59', '60-64']\n",
    "Male = np.random.choice(male_age_distributions, 9, p=[0.195960109, 0.092231468\n",
    ", 0.102331195\n",
    ", 0.122657689\n",
    ", 0.11636918\n",
    ", 0.108111542\n",
    ", 0.096550848\n",
    ", 0.088039129\n",
    ", 0.077748841\n",
    "])\"\"\"\n",
    "\n",
    "\"\"\"female_age_distributions = {\n",
    "                             '15-24': range(15, 24), '25-29': range(25, 29),\n",
    "                             '30-34': range(30, 34), '35-39': range(35, 39),\n",
    "                             '40-44': range(40, 44), '45-49': range(45, 49),\n",
    "                             '50-54': range(50, 54), '55-59': range(55, 59),\n",
    "                             '60-64': range(60, 64),\n",
    "                            }\"\"\"\n",
    "                           \n",
    "\n",
    "\n",
    "\n",
    "\"\"\"Female = np.random.choice(female_age_distributions, 9, p=[0.185555417\n",
    ", 0.091153318\n",
    ", 0.109209047\n",
    ", 0.128201924\n",
    ", 0.116643759\n",
    ", 0.106834937\n",
    ", 0.096588779\n",
    ", 0.088279395\n",
    ", 0.077533425\n",
    "])\"\"\"\n",
    "\n",
    "\n"
   ]
  },
  {
   "cell_type": "markdown",
   "metadata": {},
   "source": [
    "def age():\n",
    "    \n",
    "    male_age_distributions = {0.195960109, \n",
    "                              0.092231468,\n",
    "                              0.102331195,\n",
    "                              0.122657689,\n",
    "                              0.11636918,\n",
    "                              0.108111542,\n",
    "                              0.096550848,\n",
    "                              0.088039129,\n",
    "                              0.077748841}\n",
    "    \n",
    "    \n",
    "    for p in male_age_distributions:\n",
    "        male_age = make_age_distributions[p] * 100\n",
    "        \n",
    "    print(male_age)\n",
    "\n",
    "\n"
   ]
  },
  {
   "cell_type": "code",
   "execution_count": 92,
   "metadata": {},
   "outputs": [],
   "source": [
    "genders = ['Male', 'Female']\n",
    "smokers = ['Yes', 'No']\n",
    "ages = np.random.randint(18, 65, 1000000)\n",
    "ID = range(100, 200)\n",
    "gender = np.random.choice(genders, 100, p=[0.4959, 0.5041])\n",
    "\n",
    "def is_smoker():\n",
    "    for sex in genders:\n",
    "        if sex == 'Male':\n",
    "            smoker = np.random.choice(Male, p=[0.211, 0.789])\n",
    "        elif sex == 'Female':\n",
    "            smoker = np.random.choice(Female, p=[0.166, 0.834])\n",
    "        return smoker\n",
    "\n",
    "def BMI_cal():\n",
    "    for sex in genders:\n",
    "        if sex == 'Male':\n",
    "            BMI = np.random.normal(25.5, 5)\n",
    "        elif sex == 'Female':\n",
    "            BMI = np.random.normal(24.5, 5)\n",
    "        return BMI\n",
    "\n",
    "BMI = np.round(BMI, 1)\n",
    "\n",
    "age = np.random.choice(ages, 100)\n",
    "\n",
    "Litres_Alcohol = np.random.randint(0, 30, 100)\n",
    "\n",
    "exercise = np.random.normal(150, 50, 100)\n",
    "\n",
    "\n",
    "#Lifestyle_risk = \n",
    "\n",
    "df = pd.DataFrame({'ID': range(100, 200),\n",
    "                    'Age': age,\n",
    "                    'Gender': gender,\n",
    "                    'Smoker': smoker,\n",
    "                    'BMI': BMI,\n",
    "                    'lts/ yr. Alcohol': Litres_Alcohol,\n",
    "                    'Exercise': Exercise,\n",
    "                    'Lifestyle Risk': \" \",\n",
    "                   } \n",
    "                   )\n",
    "\n",
    "df.set_index('ID', inplace=True)\n"
   ]
  },
  {
   "cell_type": "code",
   "execution_count": 165,
   "metadata": {},
   "outputs": [
    {
     "data": {
      "text/plain": [
       "<function __main__.Lifestyle_risk()>"
      ]
     },
     "execution_count": 165,
     "metadata": {},
     "output_type": "execute_result"
    }
   ],
   "source": [
    "def Lifestyle_risk():\n",
    "    for reply in len(smoker):\n",
    "        if reply == 'Yes':\n",
    "            risk = 'High'\n",
    "        else:\n",
    "            risk = 'Low'\n",
    "        return risk\n",
    "       \n",
    "\n",
    "Lifestyle_risk\n"
   ]
  },
  {
   "cell_type": "code",
   "execution_count": null,
   "metadata": {},
   "outputs": [],
   "source": []
  },
  {
   "cell_type": "code",
   "execution_count": null,
   "metadata": {},
   "outputs": [],
   "source": []
  }
 ],
 "metadata": {
  "kernelspec": {
   "display_name": "Python 3",
   "language": "python",
   "name": "python3"
  },
  "language_info": {
   "codemirror_mode": {
    "name": "ipython",
    "version": 3
   },
   "file_extension": ".py",
   "mimetype": "text/x-python",
   "name": "python",
   "nbconvert_exporter": "python",
   "pygments_lexer": "ipython3",
   "version": "3.7.0"
  }
 },
 "nbformat": 4,
 "nbformat_minor": 2
}
