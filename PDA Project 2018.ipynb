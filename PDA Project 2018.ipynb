{
 "cells": [
  {
   "cell_type": "markdown",
   "metadata": {},
   "source": [
    "https://data.gov.ie/dataset/hourly-data-for-buoy-m5"
   ]
  },
  {
   "cell_type": "code",
   "execution_count": 1,
   "metadata": {},
   "outputs": [],
   "source": [
    "# Pandas for dataframes.\n",
    "\n",
    "import pandas as pd\n",
    "import numpy as np\n",
    "%matplotlib inline\n",
    "\n",
    "import matplotlib.pyplot as plt\n",
    "import matplotlib.dates as mdates\n",
    "import seaborn as sns\n",
    "import scipy as sp"
   ]
  },
  {
   "cell_type": "code",
   "execution_count": 22,
   "metadata": {},
   "outputs": [],
   "source": [
    "#df = pd.read_csv('http://cli.fusio.net/cli/climate_data/webdata/hly62092.csv', skiprows=19, low_memory=False, nrows=113979, na_values=' ')"
   ]
  },
  {
   "cell_type": "code",
   "execution_count": 3,
   "metadata": {},
   "outputs": [],
   "source": [
    "#df['date'] = pd.to_datetime(df['date'])\n",
    "#df = df.set_index('date')"
   ]
  },
  {
   "cell_type": "code",
   "execution_count": 23,
   "metadata": {},
   "outputs": [],
   "source": [
    "#df.dropna()"
   ]
  },
  {
   "cell_type": "code",
   "execution_count": 24,
   "metadata": {},
   "outputs": [],
   "source": [
    "#df.notnull().sum()"
   ]
  },
  {
   "cell_type": "code",
   "execution_count": 25,
   "metadata": {},
   "outputs": [],
   "source": [
    "#df.describe()"
   ]
  },
  {
   "cell_type": "code",
   "execution_count": 26,
   "metadata": {},
   "outputs": [],
   "source": [
    "#sns.distplot(df.temp.dropna())\n",
    "#plt.show()"
   ]
  },
  {
   "cell_type": "code",
   "execution_count": 27,
   "metadata": {},
   "outputs": [],
   "source": [
    "#df.iloc[1]"
   ]
  },
  {
   "cell_type": "code",
   "execution_count": 33,
   "metadata": {},
   "outputs": [
    {
     "data": {
      "text/plain": [
       "\"sns.pairplot(df['2013'], x_vars={'temp', 'rhum', 'wdsp', 'dir',\\n                                 }, \\n                                 y_vars={'temp', 'rhum', 'wdsp', 'dir',\\n                                }, dropna=True)\""
      ]
     },
     "execution_count": 33,
     "metadata": {},
     "output_type": "execute_result"
    }
   ],
   "source": [
    "#df.dropna(inplace=True) \n",
    "\"\"\"sns.pairplot(df['2013'], x_vars={'temp', 'rhum', 'wdsp', 'dir',\n",
    "                                 }, \n",
    "                                 y_vars={'temp', 'rhum', 'wdsp', 'dir',\n",
    "                                }, dropna=True)\"\"\""
   ]
  },
  {
   "cell_type": "markdown",
   "metadata": {},
   "source": [
    "Fitting regression line https://plot.ly/matplotlib/linear-fits/\n",
    "    "
   ]
  },
  {
   "cell_type": "markdown",
   "metadata": {},
   "source": [
    "Based on code from: https://stackoverflow.com/questions/6620471/fitting-empirical-distribution-to-theoretical-ones-with-scipy-python?lq=1"
   ]
  },
  {
   "cell_type": "markdown",
   "metadata": {},
   "source": [
    "seaborn.regplot(x, y, data=None, x_estimator=None, x_bins=None, x_ci='ci', scatter=True, fit_reg=True, ci=95, n_boot=1000, units=None, order=1, logistic=False, lowess=False, robust=False, logx=False, x_partial=None, y_partial=None, truncate=False, dropna=True, x_jitter=None, y_jitter=None, label=None, color=None, marker='o', scatter_kws=None, line_kws=None, ax=None)"
   ]
  },
  {
   "cell_type": "code",
   "execution_count": 29,
   "metadata": {},
   "outputs": [],
   "source": [
    "#df.dropna(inplace=True)\n",
    "#x = df.iloc[:, 0]\n",
    "#y = df.iloc[:, 6]\n",
    "#sns.regplot(x, y)"
   ]
  },
  {
   "cell_type": "code",
   "execution_count": 30,
   "metadata": {},
   "outputs": [],
   "source": [
    "#temp_seatp = np.polyfit(x, y, 1)\n",
    "#print(temp_seatp)"
   ]
  },
  {
   "cell_type": "markdown",
   "metadata": {},
   "source": [
    "https://stackoverflow.com/questions/35730534/numpy-generate-data-from-linear-function"
   ]
  },
  {
   "cell_type": "code",
   "execution_count": null,
   "metadata": {},
   "outputs": [],
   "source": [
    "x = np.arange(10, 18, 0.008)\n",
    "\n",
    "delta = np.random.uniform(-1,2, size=(1000))\n",
    "\n",
    "y = (3.723 * x + 0.768 + delta)/3.723\n",
    "sns.regplot(x, y)"
   ]
  },
  {
   "cell_type": "markdown",
   "metadata": {},
   "source": [
    "Decided to change topic to lifestyle risk indicators\n",
    "https://ephtracking.cdc.gov/showLifestyleRiskFactorsMain"
   ]
  },
  {
   "cell_type": "code",
   "execution_count": 31,
   "metadata": {},
   "outputs": [],
   "source": [
    "#df = np.loadtxt('LLCP2017.ASC', delimiter=';', skiprows=6)"
   ]
  },
  {
   "cell_type": "markdown",
   "metadata": {},
   "source": [
    "Life style risk indicators:\n",
    "1. Exercise (Weekly Hours) https://health.gov.ie/wp-content/uploads/2016/10/Healthy-Ireland-Survey-2016-Summary-Findings.pdf\n",
    "2. Alcohol Consumption (Units)http://alcoholireland.ie/facts/how-much-do-we-drink/ \n",
    "3. BMI Normal 18.5 to 24.9 Overweight Obese 30+ Extreme Obesity 40+ http://www.irishhealth.com/calc/bmi01.html\n",
    "4. Smoker or non-smoker https://www.hse.ie/eng/about/who/tobaccocontrol/research/\n",
    "\n",
    "Age/ Gender"
   ]
  },
  {
   "cell_type": "markdown",
   "metadata": {},
   "source": [
    "Write a script to randomly generate 100 ages in the range 18 - 65? based on age distribution in Ireland - put in index column\n",
    "Write a for loop to randomly generate gender, according to age distribution in ireland\n",
    "Write a script to randomly generate weekly minutes of exercise by age and gender based on health.gov statistics\n",
    "Write a script to randomly generate BMI based on age and gender\n",
    "Write a script to randomly assign as smoker or non-smoker according to irish statistics\n",
    "\n",
    "Classify life style risk as low, moderate or high"
   ]
  },
  {
   "cell_type": "code",
   "execution_count": null,
   "metadata": {},
   "outputs": [],
   "source": []
  }
 ],
 "metadata": {
  "kernelspec": {
   "display_name": "Python 3",
   "language": "python",
   "name": "python3"
  },
  "language_info": {
   "codemirror_mode": {
    "name": "ipython",
    "version": 3
   },
   "file_extension": ".py",
   "mimetype": "text/x-python",
   "name": "python",
   "nbconvert_exporter": "python",
   "pygments_lexer": "ipython3",
   "version": "3.7.0"
  }
 },
 "nbformat": 4,
 "nbformat_minor": 2
}
